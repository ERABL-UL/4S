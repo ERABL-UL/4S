{
 "cells": [
  {
   "cell_type": "code",
   "execution_count": 14,
   "id": "ceb54d50-ac97-4cdb-a149-af6a4e13e9b6",
   "metadata": {},
   "outputs": [],
   "source": [
    "import torch\n",
    "import matplotlib.pyplot as plt\n",
    "import pathlib\n",
    "\n",
    "import utils\n",
    "import argparse"
   ]
  },
  {
   "cell_type": "code",
   "execution_count": 15,
   "id": "969b27df-14e5-4d62-8b1d-0da54e12cc1d",
   "metadata": {},
   "outputs": [],
   "source": [
    "args = argparse.Namespace(accum_steps=1, batch_size=32, checkpoint='segcontrast_05', data_dir='./Datasets/SemanticKITTI', dataset_name='SemanticKITTI', decay_lr=0.0001, device_id=0, epochs=200, feature_size=128, load_checkpoint=False, log_dir='checkpoint/contrastive', lr=0.5, num_points=20000, num_workers=8, segment_contrast=True, shuffle=False, sparse_model='MinkUNet', sparse_resolution=0.05, tau=0.1, use_cuda=True, use_intensity=True, vicreg=True, vicreg_alpha=0.75, vicreg_cov_coeff=1, vicreg_eps=0.0001, vicreg_gamma=1, vicreg_inv_coeff=25, vicreg_num_global=20, vicreg_num_local=4, vicreg_var_coeff=25)\n",
    "vicreg = utils.get_moco_model(args, torch.cuda.FloatTensor)"
   ]
  },
  {
   "cell_type": "code",
   "execution_count": 27,
   "id": "0634877f-67a4-4542-9ace-6f63a9253ba5",
   "metadata": {},
   "outputs": [],
   "source": [
    "base_path = 'checkpoint/contrastive/epoch{0}_model_head_segcontrast.pt'\n",
    "base_path = 'checkpoint/contrastive/epoch{0}_model_segcontrast.pt'\n",
    "paths = []\n",
    "for i in range(0, 40, 10):\n",
    "    paths.append(base_path.format(i))\n",
    "\n",
    "models = []\n",
    "for p in paths:\n",
    "    models.append(torch.load(p))\n",
    "    "
   ]
  },
  {
   "cell_type": "code",
   "execution_count": 30,
   "id": "432486ca-f3a9-4f16-8224-3747d88716cb",
   "metadata": {},
   "outputs": [],
   "source": [
    "m = models[0]\n",
    "keys = m['model'].keys()"
   ]
  },
  {
   "cell_type": "code",
   "execution_count": 42,
   "id": "fbb075f6-14c5-409e-93bc-037f1796e8e1",
   "metadata": {},
   "outputs": [],
   "source": [
    "deltas = []\n",
    "\n",
    "for i in range(1, len(models)):\n",
    "    before = models[i - 1]['model']\n",
    "    after = models[i]['model']\n",
    "\n",
    "    d = {}\n",
    "    for k in keys:\n",
    "        if 'batches' in k:\n",
    "            continue\n",
    "        b = before[k]\n",
    "        a = after[k]\n",
    "        delta = torch.abs(b - a)\n",
    "        d[k] = torch.mean(delta)\n",
    "    deltas.append(d)"
   ]
  },
  {
   "cell_type": "code",
   "execution_count": null,
   "id": "94ef2cdc-4644-4878-9dc8-2670eab33724",
   "metadata": {},
   "outputs": [],
   "source": []
  }
 ],
 "metadata": {
  "kernelspec": {
   "display_name": "Python 3 (ipykernel)",
   "language": "python",
   "name": "python3"
  },
  "language_info": {
   "codemirror_mode": {
    "name": "ipython",
    "version": 3
   },
   "file_extension": ".py",
   "mimetype": "text/x-python",
   "name": "python",
   "nbconvert_exporter": "python",
   "pygments_lexer": "ipython3",
   "version": "3.8.10"
  }
 },
 "nbformat": 4,
 "nbformat_minor": 5
}
